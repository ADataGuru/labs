{
 "cells": [
  {
   "cell_type": "markdown",
   "source": [
    "# Correction TP sncf"
   ],
   "metadata": {
    "collapsed": false,
    "pycharm": {
     "name": "#%% md\n"
    }
   }
  },
  {
   "cell_type": "code",
   "execution_count": 202,
   "outputs": [],
   "source": [
    "from pyspark.sql import SparkSession\n",
    "spark = SparkSession.builder.getOrCreate()"
   ],
   "metadata": {
    "collapsed": false,
    "pycharm": {
     "name": "#%%\n"
    }
   }
  },
  {
   "cell_type": "markdown",
   "source": [
    "## Chargement du dataset avec spark + renommage\n",
    "\n",
    "On a uploadé directement les données sur github, mais on aurait pu les charger sur un google drive."
   ],
   "metadata": {
    "collapsed": false,
    "pycharm": {
     "name": "#%% md\n"
    }
   }
  },
  {
   "cell_type": "code",
   "source": [
    "path = \"./data/objets-trouves-restitution.csv\""
   ],
   "metadata": {
    "collapsed": false,
    "pycharm": {
     "name": "#%%\n"
    }
   },
   "execution_count": null,
   "outputs": []
  },
  {
   "cell_type": "markdown",
   "source": [
    "On lit le csv, et on renomme certaines colonnes pour faciliter l'utilisation."
   ],
   "metadata": {
    "collapsed": false,
    "pycharm": {
     "name": "#%% md\n"
    }
   }
  },
  {
   "cell_type": "code",
   "execution_count": 207,
   "outputs": [],
   "source": [
    "\n",
    "objets_perdus = spark.read.csv(path, sep =';',header=True)\n",
    "objets_perdus = objets_perdus\\\n",
    "    .withColumnRenamed(\"Date et heure de restitution\",\"date_restitution\")\\\n",
    "    .withColumnRenamed(\"Code UIC\",\"code_uic\")\\\n",
    "    .withColumnRenamed(\"Nature d'objets\",\"nature_objets\")\\\n",
    "    .withColumnRenamed(\"Type d'enregistrement\",\"type_enregistrement\")\\\n",
    "    .withColumnRenamed(\"Gare\",\"gare\")\n"
   ],
   "metadata": {
    "collapsed": false,
    "pycharm": {
     "name": "#%%\n"
    }
   }
  },
  {
   "cell_type": "markdown",
   "source": [
    "## Trouver le top 5 villes qui trouvent le plus d’objets\n",
    "Pour cela on va suivre les étapes suivantes :\n",
    "\n",
    "1. Créer la colonne ville à partir des gares : *la solution choisie est loin d'être la meilleure, mais pour les top 5 villes, il n'y a aucunes villes avec un nom composé, on peut alors dire que le premier mot des gares correspond aux villes*.\n",
    "2. Compter le nombre d'objets par ville et trier le résultat par ordre décroissant"
   ],
   "metadata": {
    "collapsed": false,
    "pycharm": {
     "name": "#%% md\n"
    }
   }
  },
  {
   "cell_type": "code",
   "execution_count": 208,
   "outputs": [
    {
     "name": "stdout",
     "output_type": "stream",
     "text": [
      "-RECORD 0-------------------------------------------------------------\n",
      " Date                | 2018-01-04T22:18:50+01:00                      \n",
      " date_restitution    | null                                           \n",
      " gare                | Montpellier Saint-Roch                         \n",
      " code_uic            | 0087773002                                     \n",
      " nature_objets       | Autre bagagerie                                \n",
      " Type d'objets       | Bagagerie: sacs, valises, cartables            \n",
      " type_enregistrement | Objet trouvé                                   \n",
      " ville               | Montpellier                                    \n",
      "-RECORD 1-------------------------------------------------------------\n",
      " Date                | 2018-01-05T05:51:16+01:00                      \n",
      " date_restitution    | null                                           \n",
      " gare                | Caen                                           \n",
      " code_uic            | 0087444000                                     \n",
      " nature_objets       | Foulard, écharpe                               \n",
      " Type d'objets       | Vêtements, chaussures                          \n",
      " type_enregistrement | Objet trouvé                                   \n",
      " ville               | Caen                                           \n",
      "-RECORD 2-------------------------------------------------------------\n",
      " Date                | 2018-01-05T06:43:28+01:00                      \n",
      " date_restitution    | null                                           \n",
      " gare                | Tourcoing                                      \n",
      " code_uic            | 0087286542                                     \n",
      " nature_objets       | Carte Vitale                                   \n",
      " Type d'objets       | Pièces d'identités et papiers personnels       \n",
      " type_enregistrement | Objet trouvé                                   \n",
      " ville               | Tourcoing                                      \n",
      "-RECORD 3-------------------------------------------------------------\n",
      " Date                | 2018-01-05T06:49:34+01:00                      \n",
      " date_restitution    | null                                           \n",
      " gare                | Tourcoing                                      \n",
      " code_uic            | 0087286542                                     \n",
      " nature_objets       | Sacoche pour ordinateur, photo, vidéo          \n",
      " Type d'objets       | Bagagerie: sacs, valises, cartables            \n",
      " type_enregistrement | Objet trouvé                                   \n",
      " ville               | Tourcoing                                      \n",
      "-RECORD 4-------------------------------------------------------------\n",
      " Date                | 2018-01-05T08:44:24+01:00                      \n",
      " date_restitution    | null                                           \n",
      " gare                | Lille Europe                                   \n",
      " code_uic            | 0087223263                                     \n",
      " nature_objets       | Carte d'abonnement                             \n",
      " Type d'objets       | Pièces d'identités et papiers personnels       \n",
      " type_enregistrement | Objet trouvé                                   \n",
      " ville               | Lille                                          \n",
      "-RECORD 5-------------------------------------------------------------\n",
      " Date                | 2018-01-05T09:11:04+01:00                      \n",
      " date_restitution    | 2018-01-06T15:13:14+01:00                      \n",
      " gare                | Bordeaux Saint-Jean                            \n",
      " code_uic            | 0087581009                                     \n",
      " nature_objets       | Sac à dos                                      \n",
      " Type d'objets       | Bagagerie: sacs, valises, cartables            \n",
      " type_enregistrement | Objet trouvé                                   \n",
      " ville               | Bordeaux                                       \n",
      "-RECORD 6-------------------------------------------------------------\n",
      " Date                | 2018-01-05T09:23:44+01:00                      \n",
      " date_restitution    | null                                           \n",
      " gare                | Morlaix                                        \n",
      " code_uic            | 0087474338                                     \n",
      " nature_objets       | Foulard, écharpe                               \n",
      " Type d'objets       | Vêtements, chaussures                          \n",
      " type_enregistrement | Objet trouvé                                   \n",
      " ville               | Morlaix                                        \n",
      "-RECORD 7-------------------------------------------------------------\n",
      " Date                | 2018-01-05T09:29:23+01:00                      \n",
      " date_restitution    | 2018-01-15T15:46:37+01:00                      \n",
      " gare                | Lyon Perrache                                  \n",
      " code_uic            | 0087722025                                     \n",
      " nature_objets       | Sac de voyage, sac de sport, sac à bandoulière \n",
      " Type d'objets       | Bagagerie: sacs, valises, cartables            \n",
      " type_enregistrement | Objet trouvé                                   \n",
      " ville               | Lyon                                           \n",
      "-RECORD 8-------------------------------------------------------------\n",
      " Date                | 2018-01-05T09:45:44+01:00                      \n",
      " date_restitution    | 2018-01-06T16:46:22+01:00                      \n",
      " gare                | Nice                                           \n",
      " code_uic            | 0087756056                                     \n",
      " nature_objets       | Sac à dos                                      \n",
      " Type d'objets       | Bagagerie: sacs, valises, cartables            \n",
      " type_enregistrement | Objet trouvé                                   \n",
      " ville               | Nice                                           \n",
      "-RECORD 9-------------------------------------------------------------\n",
      " Date                | 2018-01-05T10:01:34+01:00                      \n",
      " date_restitution    | 2018-01-05T10:18:54+01:00                      \n",
      " gare                | Marseille Saint-Charles                        \n",
      " code_uic            | 0087751008                                     \n",
      " nature_objets       | Sac à main                                     \n",
      " Type d'objets       | Bagagerie: sacs, valises, cartables            \n",
      " type_enregistrement | Objet trouvé                                   \n",
      " ville               | Marseille                                      \n",
      "only showing top 10 rows\n",
      "\n"
     ]
    }
   ],
   "source": [
    "from pyspark.sql.functions import desc, split, col\n",
    "\n",
    "# 1\n",
    "objets_trouves_avec_villes = objets_perdus.withColumn(\"ville\", split(col(\"gare\"), \" \").getItem(0))\n",
    "objets_trouves_avec_villes.show(n=10, vertical=True, truncate=False)"
   ],
   "metadata": {
    "collapsed": false,
    "pycharm": {
     "name": "#%%\n"
    }
   }
  },
  {
   "cell_type": "markdown",
   "source": [
    "Création de la vue objets perdus"
   ],
   "metadata": {
    "collapsed": false
   }
  },
  {
   "cell_type": "code",
   "execution_count": 209,
   "outputs": [],
   "source": [
    "objets_trouves_avec_villes.createOrReplaceTempView(\"objets_perdus\")\n",
    "spark.conf.set(\"spark.sql.shuffle.partitions\", \"5\")\n"
   ],
   "metadata": {
    "collapsed": false,
    "pycharm": {
     "name": "#%%\n"
    }
   }
  },
  {
   "cell_type": "code",
   "execution_count": 210,
   "outputs": [
    {
     "name": "stdout",
     "output_type": "stream",
     "text": [
      "+----------+----------+----------------------------+\n",
      "|nbr_objets|     ville|pourcentage_objets_par_ville|\n",
      "+----------+----------+----------------------------+\n",
      "|    213156|     Paris|           29.75896129279955|\n",
      "|     32432|      Lyon|           4.527869882377578|\n",
      "|     32003|Strasbourg|           4.467976684932464|\n",
      "|     29497|     Lille|           4.118111060695961|\n",
      "|     25511| Marseille|           3.561620885832955|\n",
      "+----------+----------+----------------------------+\n",
      "\n"
     ]
    }
   ],
   "source": [
    "# 2\n",
    "nbr_total_objets = objets_perdus.count()\n",
    "top_5_villes = spark.sql(f\"select count(*) as nbr_objets, ville, (count(*)/{nbr_total_objets})*100 as pourcentage_objets_par_ville from objets_perdus where type_enregistrement='Objet trouvé' group by ville;\").sort(desc(\"nbr_objets\")).limit(5)\n",
    "\n",
    "top_5_villes.show()"
   ],
   "metadata": {
    "collapsed": false,
    "pycharm": {
     "name": "#%%\n"
    }
   }
  },
  {
   "cell_type": "markdown",
   "source": [
    "## Sur toutes les villes : Trouver la nature des top 5 des objets trouvés\n",
    "\n",
    "Pour cela, nous allons compter le nombre d'objets par `nature_objets`:"
   ],
   "metadata": {
    "collapsed": false,
    "pycharm": {
     "name": "#%% md\n"
    }
   }
  },
  {
   "cell_type": "code",
   "execution_count": 211,
   "outputs": [
    {
     "name": "stdout",
     "output_type": "stream",
     "text": [
      "+------+--------------------+\n",
      "|objets|       nature_objets|\n",
      "+------+--------------------+\n",
      "| 66013|Porte-monnaie, po...|\n",
      "| 58903|           Sac à dos|\n",
      "| 57393|  Téléphone portable|\n",
      "| 48581|Valise, sac sur r...|\n",
      "| 47111|Manteau, veste, b...|\n",
      "+------+--------------------+\n",
      "\n"
     ]
    }
   ],
   "source": [
    "top_5_nature_objets = spark.sql(\"select count(*) as objets, nature_objets from objets_perdus group by nature_objets;\").sort(desc(\"objets\")).limit(5)\n",
    "top_5_nature_objets.show()"
   ],
   "metadata": {
    "collapsed": false,
    "pycharm": {
     "name": "#%%\n"
    }
   }
  },
  {
   "cell_type": "markdown",
   "source": [
    "## Dans les top 5 villes : Trouver la nature des top 3 des objets trouvés\n",
    "\n",
    "Pour cela on va :\n",
    "\n",
    "1. Faire une jointure sur le dataframe pincipal avec le dataframe des top 5 villes, ça nous permet d'avoir tous les objets trouvés sur les 5 villes qu'on veut.\n",
    "2. On crée une vue sur le résultat de l'étape 1\n",
    "3. On sélectionne par ordre décroissant le nombre  d'objets trouvés par ville et nature d'objets\n",
    "4. On utilise les fonctions windows pour trouver le top 3 nature objets par ville\n",
    "5. On met sous la forme demandé, on utilisant un pivot table, pour passer les villes en colonnes\n"
   ],
   "metadata": {
    "collapsed": false,
    "pycharm": {
     "name": "#%% md\n"
    }
   }
  },
  {
   "cell_type": "code",
   "execution_count": 212,
   "outputs": [
    {
     "name": "stdout",
     "output_type": "stream",
     "text": [
      "-RECORD 0--------------------------------------------------------\n",
      " nbr_objets    | 24720                                           \n",
      " ville         | Paris                                           \n",
      " nature_objets | Porte-monnaie, portefeuille                     \n",
      "-RECORD 1--------------------------------------------------------\n",
      " nbr_objets    | 16694                                           \n",
      " ville         | Paris                                           \n",
      " nature_objets | Sac à dos                                       \n",
      "-RECORD 2--------------------------------------------------------\n",
      " nbr_objets    | 14543                                           \n",
      " ville         | Paris                                           \n",
      " nature_objets | Carte d'identité, passeport, permis de conduire \n",
      "-RECORD 3--------------------------------------------------------\n",
      " nbr_objets    | 13685                                           \n",
      " ville         | Paris                                           \n",
      " nature_objets | Téléphone portable                              \n",
      "-RECORD 4--------------------------------------------------------\n",
      " nbr_objets    | 12770                                           \n",
      " ville         | Paris                                           \n",
      " nature_objets | Valise, sac sur roulettes                       \n",
      "-RECORD 5--------------------------------------------------------\n",
      " nbr_objets    | 11243                                           \n",
      " ville         | Paris                                           \n",
      " nature_objets | Clés, porte-clés                                \n",
      "-RECORD 6--------------------------------------------------------\n",
      " nbr_objets    | 10239                                           \n",
      " ville         | Paris                                           \n",
      " nature_objets | Sac de voyage, sac de sport, sac à bandoulière  \n",
      "-RECORD 7--------------------------------------------------------\n",
      " nbr_objets    | 8898                                            \n",
      " ville         | Paris                                           \n",
      " nature_objets | Manteau, veste, blazer, parka, blouson, cape    \n",
      "-RECORD 8--------------------------------------------------------\n",
      " nbr_objets    | 7042                                            \n",
      " ville         | Paris                                           \n",
      " nature_objets | Sac d'enseigne (plastique, papier, …)           \n",
      "-RECORD 9--------------------------------------------------------\n",
      " nbr_objets    | 6238                                            \n",
      " ville         | Paris                                           \n",
      " nature_objets | Carte de crédit                                 \n",
      "only showing top 10 rows\n",
      "\n"
     ]
    }
   ],
   "source": [
    "# 1\n",
    "objets_perdus_dans_top_5_villes = objets_trouves_avec_villes.join(top_5_villes,[\"ville\"],\"inner\")\n",
    "# 2\n",
    "objets_perdus_dans_top_5_villes.createOrReplaceTempView(\"objets_perdus_dans_top_5_villes\")\n",
    "# 3\n",
    "objets_perdus_dans_top_5_villes =  spark.sql(\"select count(*) as nbr_objets, ville, nature_objets from objets_perdus_dans_top_5_villes group by ville, nature_objets;\").sort(desc(\"nbr_objets\"))\n",
    "objets_perdus_dans_top_5_villes.show(n=10, truncate=False, vertical=True)"
   ],
   "metadata": {
    "collapsed": false,
    "pycharm": {
     "name": "#%%\n"
    }
   }
  },
  {
   "cell_type": "code",
   "execution_count": 216,
   "outputs": [
    {
     "name": "stdout",
     "output_type": "stream",
     "text": [
      "-RECORD 0--------------------------------------------------------\n",
      " nbr_objets    | 2363                                            \n",
      " ville         | Lille                                           \n",
      " nature_objets | Porte-monnaie, portefeuille                     \n",
      " rank          | 1                                               \n",
      "-RECORD 1--------------------------------------------------------\n",
      " nbr_objets    | 2308                                            \n",
      " ville         | Lille                                           \n",
      " nature_objets | Sac à dos                                       \n",
      " rank          | 2                                               \n",
      "-RECORD 2--------------------------------------------------------\n",
      " nbr_objets    | 2220                                            \n",
      " ville         | Lille                                           \n",
      " nature_objets | Valise, sac sur roulettes                       \n",
      " rank          | 3                                               \n",
      "-RECORD 3--------------------------------------------------------\n",
      " nbr_objets    | 3884                                            \n",
      " ville         | Lyon                                            \n",
      " nature_objets | Porte-monnaie, portefeuille                     \n",
      " rank          | 1                                               \n",
      "-RECORD 4--------------------------------------------------------\n",
      " nbr_objets    | 3082                                            \n",
      " ville         | Lyon                                            \n",
      " nature_objets | Valise, sac sur roulettes                       \n",
      " rank          | 2                                               \n",
      "-RECORD 5--------------------------------------------------------\n",
      " nbr_objets    | 2961                                            \n",
      " ville         | Lyon                                            \n",
      " nature_objets | Sac à dos                                       \n",
      " rank          | 3                                               \n",
      "-RECORD 6--------------------------------------------------------\n",
      " nbr_objets    | 3217                                            \n",
      " ville         | Marseille                                       \n",
      " nature_objets | Valise, sac sur roulettes                       \n",
      " rank          | 1                                               \n",
      "-RECORD 7--------------------------------------------------------\n",
      " nbr_objets    | 2560                                            \n",
      " ville         | Marseille                                       \n",
      " nature_objets | Sac à dos                                       \n",
      " rank          | 2                                               \n",
      "-RECORD 8--------------------------------------------------------\n",
      " nbr_objets    | 2226                                            \n",
      " ville         | Marseille                                       \n",
      " nature_objets | Téléphone portable                              \n",
      " rank          | 3                                               \n",
      "-RECORD 9--------------------------------------------------------\n",
      " nbr_objets    | 24720                                           \n",
      " ville         | Paris                                           \n",
      " nature_objets | Porte-monnaie, portefeuille                     \n",
      " rank          | 1                                               \n",
      "-RECORD 10-------------------------------------------------------\n",
      " nbr_objets    | 16694                                           \n",
      " ville         | Paris                                           \n",
      " nature_objets | Sac à dos                                       \n",
      " rank          | 2                                               \n",
      "-RECORD 11-------------------------------------------------------\n",
      " nbr_objets    | 14543                                           \n",
      " ville         | Paris                                           \n",
      " nature_objets | Carte d'identité, passeport, permis de conduire \n",
      " rank          | 3                                               \n",
      "-RECORD 12-------------------------------------------------------\n",
      " nbr_objets    | 2879                                            \n",
      " ville         | Strasbourg                                      \n",
      " nature_objets | Porte-monnaie, portefeuille                     \n",
      " rank          | 1                                               \n",
      "-RECORD 13-------------------------------------------------------\n",
      " nbr_objets    | 2549                                            \n",
      " ville         | Strasbourg                                      \n",
      " nature_objets | Téléphone portable                              \n",
      " rank          | 2                                               \n",
      "-RECORD 14-------------------------------------------------------\n",
      " nbr_objets    | 2499                                            \n",
      " ville         | Strasbourg                                      \n",
      " nature_objets | Sac à dos                                       \n",
      " rank          | 3                                               \n",
      "\n"
     ]
    }
   ],
   "source": [
    "from pyspark.sql import Window\n",
    "from pyspark.sql.functions import rank, col\n",
    "# 4\n",
    "window_top_3_nature_by_city = Window.partitionBy([\"ville\"]).orderBy(objets_perdus_dans_top_5_villes['nbr_objets'].desc())\n",
    "top_3_nature_in_top_5_villes = objets_perdus_dans_top_5_villes.select('*', rank().over(window_top_3_nature_by_city).alias('rank')).filter(col('rank') <= 3)\n",
    "top_3_nature_in_top_5_villes.show(n=50, truncate=False, vertical=True)"
   ],
   "metadata": {
    "collapsed": false,
    "pycharm": {
     "name": "#%%\n"
    }
   }
  },
  {
   "cell_type": "markdown",
   "source": [],
   "metadata": {
    "collapsed": false
   }
  },
  {
   "cell_type": "code",
   "execution_count": 244,
   "outputs": [
    {
     "name": "stdout",
     "output_type": "stream",
     "text": [
      "{'Lille': ['Porte-monnaie', ' portefeuille', ' Sac à dos', ' Valise', ' sac sur roulettes'], 'Lyon': ['Porte-monnaie', ' portefeuille', ' Valise', ' sac sur roulettes', ' Sac à dos'], 'Marseille': ['Valise', ' sac sur roulettes', ' Sac à dos', ' Téléphone portable'], 'Paris': ['Porte-monnaie', ' portefeuille', ' Sac à dos', \" Carte d'identité\", ' passeport', ' permis de conduire'], 'Strasbourg': ['Porte-monnaie', ' portefeuille', ' Téléphone portable', ' Sac à dos']}\n"
     ]
    }
   ],
   "source": [
    "import pyspark.sql.functions as f\n",
    "pivotDF = top_3_nature_in_top_5_villes.groupBy(\"ville\").pivot(\"ville\").agg(f.concat_ws(\", \", f.collect_list(top_3_nature_in_top_5_villes.nature_objets)))\n",
    "\n",
    "top_3_nature_in_top_5_villes_dict = {}\n",
    "for row in pivotDF.collect():\n",
    "    ville = row.asDict()[\"ville\"]\n",
    "    nature_objects = row.asDict()[ville].split(\",\")\n",
    "    top_3_nature_in_top_5_villes_dict[ville] = nature_objects\n",
    "print(top_3_nature_in_top_5_villes_dict)"
   ],
   "metadata": {
    "collapsed": false,
    "pycharm": {
     "name": "#%%\n"
    }
   }
  },
  {
   "cell_type": "markdown",
   "source": [
    "# Sur l’ensemble des objets : Identifier les périodes ou il y a le plus d’objets trouvés"
   ],
   "metadata": {
    "collapsed": false,
    "pycharm": {
     "name": "#%% md\n"
    }
   }
  },
  {
   "cell_type": "markdown",
   "source": [
    "## A l'année"
   ],
   "metadata": {
    "collapsed": false,
    "pycharm": {
     "name": "#%% md\n"
    }
   }
  },
  {
   "cell_type": "code",
   "execution_count": 196,
   "outputs": [
    {
     "name": "stderr",
     "output_type": "stream",
     "text": [
      "[Stage 3042:>                                                     (0 + 10) / 10]\r"
     ]
    },
    {
     "name": "stdout",
     "output_type": "stream",
     "text": [
      "-RECORD 0-----------\n",
      " nbr_objets | 98568 \n",
      " year       | 2015  \n",
      "-RECORD 1-----------\n",
      " nbr_objets | 97918 \n",
      " year       | 2017  \n",
      "-RECORD 2-----------\n",
      " nbr_objets | 95545 \n",
      " year       | 2016  \n",
      "-RECORD 3-----------\n",
      " nbr_objets | 90267 \n",
      " year       | 2018  \n",
      "-RECORD 4-----------\n",
      " nbr_objets | 88259 \n",
      " year       | 2019  \n",
      "-RECORD 5-----------\n",
      " nbr_objets | 87117 \n",
      " year       | 2014  \n",
      "-RECORD 6-----------\n",
      " nbr_objets | 61982 \n",
      " year       | 2021  \n",
      "-RECORD 7-----------\n",
      " nbr_objets | 47346 \n",
      " year       | 2020  \n",
      "-RECORD 8-----------\n",
      " nbr_objets | 36284 \n",
      " year       | 2022  \n",
      "-RECORD 9-----------\n",
      " nbr_objets | 12989 \n",
      " year       | 2013  \n",
      "\n"
     ]
    },
    {
     "name": "stderr",
     "output_type": "stream",
     "text": [
      "                                                                                \r"
     ]
    }
   ],
   "source": [
    "objets_trouvés_par_an = spark.sql(\"select count(*) as nbr_objets, year(Date) as year from objets_perdus group by year;\").sort(desc(\"nbr_objets\"))\n",
    "objets_trouvés_par_an.show(n=10, truncate=False, vertical=True)"
   ],
   "metadata": {
    "collapsed": false,
    "pycharm": {
     "name": "#%%\n"
    }
   }
  },
  {
   "cell_type": "markdown",
   "source": [
    "## Au mois"
   ],
   "metadata": {
    "collapsed": false,
    "pycharm": {
     "name": "#%% md\n"
    }
   }
  },
  {
   "cell_type": "code",
   "execution_count": 197,
   "outputs": [
    {
     "name": "stdout",
     "output_type": "stream",
     "text": [
      "-RECORD 0-----------\n",
      " nbr_objets | 69667 \n",
      " month      | 7     \n",
      "-RECORD 1-----------\n",
      " nbr_objets | 64686 \n",
      " month      | 6     \n",
      "-RECORD 2-----------\n",
      " nbr_objets | 64681 \n",
      " month      | 8     \n",
      "-RECORD 3-----------\n",
      " nbr_objets | 63012 \n",
      " month      | 10    \n",
      "-RECORD 4-----------\n",
      " nbr_objets | 62273 \n",
      " month      | 9     \n",
      "-RECORD 5-----------\n",
      " nbr_objets | 57537 \n",
      " month      | 5     \n",
      "-RECORD 6-----------\n",
      " nbr_objets | 57457 \n",
      " month      | 3     \n",
      "-RECORD 7-----------\n",
      " nbr_objets | 56319 \n",
      " month      | 12    \n",
      "-RECORD 8-----------\n",
      " nbr_objets | 56125 \n",
      " month      | 1     \n",
      "-RECORD 9-----------\n",
      " nbr_objets | 55867 \n",
      " month      | 2     \n",
      "only showing top 10 rows\n",
      "\n"
     ]
    }
   ],
   "source": [
    "objets_trouvés_par_mois = spark.sql(\"select count(*) as nbr_objets, month(Date) as month from objets_perdus group by month;\").sort(desc(\"nbr_objets\"))\n",
    "objets_trouvés_par_mois.show(n=10, truncate=False, vertical=True)"
   ],
   "metadata": {
    "collapsed": false,
    "pycharm": {
     "name": "#%%\n"
    }
   }
  },
  {
   "cell_type": "markdown",
   "source": [
    "## A la journée"
   ],
   "metadata": {
    "collapsed": false,
    "pycharm": {
     "name": "#%% md\n"
    }
   }
  },
  {
   "cell_type": "code",
   "execution_count": 198,
   "outputs": [
    {
     "name": "stdout",
     "output_type": "stream",
     "text": [
      "-RECORD 0------------\n",
      " nbr_objets | 146993 \n",
      " day        | 2      \n",
      "-RECORD 1------------\n",
      " nbr_objets | 119520 \n",
      " day        | 3      \n",
      "-RECORD 2------------\n",
      " nbr_objets | 113068 \n",
      " day        | 6      \n",
      "-RECORD 3------------\n",
      " nbr_objets | 111326 \n",
      " day        | 4      \n",
      "-RECORD 4------------\n",
      " nbr_objets | 108605 \n",
      " day        | 5      \n",
      "-RECORD 5------------\n",
      " nbr_objets | 67311  \n",
      " day        | 7      \n",
      "-RECORD 6------------\n",
      " nbr_objets | 49452  \n",
      " day        | 1      \n",
      "\n"
     ]
    }
   ],
   "source": [
    "objets_trouvés_par_mois = spark.sql(\"select count(*) as nbr_objets, dayofweek(Date) as day from objets_perdus group by day;\").sort(desc(\"nbr_objets\"))\n",
    "objets_trouvés_par_mois.show(n=10, truncate=False, vertical=True)"
   ],
   "metadata": {
    "collapsed": false,
    "pycharm": {
     "name": "#%%\n"
    }
   }
  },
  {
   "cell_type": "markdown",
   "source": [
    "## Conclusion\n",
    "\n",
    "1. On recommande à la sncf de concentrer leurs efforts sur la ville de Paris, elle représente ~30% des objets perdus en France.\n",
    "2. La sncf doit se concentrer sur la nature de 3 objets :\n",
    "    1. Porte-monnaie, portefeuille\n",
    "    2. Sac à dos\n",
    "    3. Valise, sac sur roulettes\n",
    "    4. Téléphone portable\n",
    "3. Sur les mois de juin, juillet et aout nous observons une hausse sur les objets trouvés, on recommande à la sncf de renforcer sa campagne publicitaire sur ses périodes. On observe également que certains jours de la semaine n'ont pas beaucoup d'objets trouvés, il n'est pas obliger de maintenir une campagne publicitaire élevée sur le dimanche et le lundi."
   ],
   "metadata": {
    "collapsed": false,
    "pycharm": {
     "name": "#%% md\n"
    }
   }
  },
  {
   "cell_type": "code",
   "execution_count": null,
   "outputs": [],
   "source": [],
   "metadata": {
    "collapsed": false,
    "pycharm": {
     "name": "#%%\n"
    }
   }
  }
 ],
 "metadata": {
  "kernelspec": {
   "display_name": "Python 3",
   "language": "python",
   "name": "python3"
  },
  "language_info": {
   "codemirror_mode": {
    "name": "ipython",
    "version": 2
   },
   "file_extension": ".py",
   "mimetype": "text/x-python",
   "name": "python",
   "nbconvert_exporter": "python",
   "pygments_lexer": "ipython2",
   "version": "2.7.6"
  }
 },
 "nbformat": 4,
 "nbformat_minor": 0
}